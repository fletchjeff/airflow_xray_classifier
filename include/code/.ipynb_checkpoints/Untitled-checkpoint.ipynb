{
 "cells": [
  {
   "cell_type": "code",
   "execution_count": 5,
   "id": "49d10172",
   "metadata": {
    "scrolled": true
   },
   "outputs": [
    {
     "name": "stderr",
     "output_type": "stream",
     "text": [
      "2022-07-20 18:54:50.917524: E tensorflow/stream_executor/cuda/cuda_driver.cc:271] failed call to cuInit: CUDA_ERROR_NO_DEVICE: no CUDA-capable device is detected\n",
      "2022-07-20 18:54:50.917548: I tensorflow/stream_executor/cuda/cuda_diagnostics.cc:156] kernel driver does not appear to be running on this host (jeff-nuc): /proc/driver/nvidia/version does not exist\n",
      "2022-07-20 18:54:50.918318: I tensorflow/core/platform/cpu_feature_guard.cc:193] This TensorFlow binary is optimized with oneAPI Deep Neural Network Library (oneDNN) to use the following CPU instructions in performance-critical operations:  AVX2 FMA\n",
      "To enable them in other operations, rebuild TensorFlow with the appropriate compiler flags.\n"
     ]
    }
   ],
   "source": [
    "from PIL import Image\n",
    "import tensorflow as tf\n",
    "from io import BytesIO\n",
    "import numpy as np\n",
    "import base64\n",
    "#import request\n",
    "#image_data = await request.json()\n",
    "model = tf.keras.models.load_model('2_class.h5')\n"
   ]
  },
  {
   "cell_type": "code",
   "execution_count": 8,
   "id": "8b55d20c",
   "metadata": {},
   "outputs": [],
   "source": [
    "import json, requests, base64\n",
    "#data = 'data:image/png;base64,' + image_data.decode()\n",
    "#encoded = base64.b64encode(open(\"data/data/test/normal/IM-0117-0001.jpeg\", \"rb\").read()).decode('ascii')\n",
    "im = Image.open(\"/home/jeff/tmp/airflow_xray_classifier/data/data/test/normal/IM-0117-0001.jpeg\")\n",
    "output = BytesIO()\n",
    "im.save(output, format='PNG')\n",
    "im_data = output.getvalue()\n",
    "image_data = base64.b64encode(im_data)\n"
   ]
  },
  {
   "cell_type": "code",
   "execution_count": 10,
   "id": "b61c2088",
   "metadata": {},
   "outputs": [],
   "source": [
    "data = json.dumps({\n",
    "   \"path\" : \"data/test/normal/IM-0117-0001.jpeg\",\n",
    "   \"image\" : f\"data:image/png;base64,{image_data.decode()}\"\n",
    "})"
   ]
  },
  {
   "cell_type": "code",
   "execution_count": 13,
   "id": "75dded3c",
   "metadata": {},
   "outputs": [
    {
     "name": "stderr",
     "output_type": "stream",
     "text": [
      "/tmp/ipykernel_433137/2201010299.py:2: DeprecationWarning: ANTIALIAS is deprecated and will be removed in Pillow 10 (2023-07-01). Use Resampling.LANCZOS instead.\n",
      "  im = im.resize((224,224),Image.ANTIALIAS)\n"
     ]
    }
   ],
   "source": [
    "im = Image.open(BytesIO(base64.b64decode(json.loads(data)['image'][22:])))\n",
    "im = im.resize((224,224),Image.ANTIALIAS)\n",
    "im = im.convert(\"RGB\")"
   ]
  },
  {
   "cell_type": "code",
   "execution_count": null,
   "id": "6dcd7503",
   "metadata": {},
   "outputs": [],
   "source": []
  },
  {
   "cell_type": "code",
   "execution_count": 14,
   "id": "b712faa5",
   "metadata": {},
   "outputs": [
    {
     "name": "stdout",
     "output_type": "stream",
     "text": [
      "1/1 [==============================] - 1s 524ms/step\n"
     ]
    }
   ],
   "source": [
    "#class_names = ['bacteria','normal','virus']\n",
    "im_array = tf.keras.preprocessing.image.img_to_array(im)\n",
    "im_array = np.expand_dims(im_array, axis=0)\n",
    "outputs = model.predict(im_array)\n"
   ]
  },
  {
   "cell_type": "code",
   "execution_count": 33,
   "id": "0a646d34",
   "metadata": {},
   "outputs": [
    {
     "data": {
      "text/plain": [
       "'normal'"
      ]
     },
     "execution_count": 33,
     "metadata": {},
     "output_type": "execute_result"
    }
   ],
   "source": [
    "class_names = ['normal', 'pneumonia']\n",
    "class_names[tf.where(tf.nn.sigmoid(outputs)< 0.5, 0, 1).numpy()[0][0]]\n",
    "\n"
   ]
  },
  {
   "cell_type": "code",
   "execution_count": null,
   "id": "dbcedef2",
   "metadata": {},
   "outputs": [],
   "source": [
    "tf.where(predictions < 0.5, 0, 1)"
   ]
  },
  {
   "cell_type": "code",
   "execution_count": 16,
   "id": "b64d181c",
   "metadata": {},
   "outputs": [],
   "source": [
    "output_classes = tf.math.argmax(outputs, axis=1)"
   ]
  },
  {
   "cell_type": "code",
   "execution_count": 17,
   "id": "a667f572",
   "metadata": {},
   "outputs": [
    {
     "data": {
      "text/plain": [
       "<tf.Tensor: shape=(1,), dtype=int64, numpy=array([0])>"
      ]
     },
     "execution_count": 17,
     "metadata": {},
     "output_type": "execute_result"
    }
   ],
   "source": [
    "output_classes"
   ]
  },
  {
   "cell_type": "code",
   "execution_count": 19,
   "id": "4bbfec26",
   "metadata": {},
   "outputs": [
    {
     "name": "stdout",
     "output_type": "stream",
     "text": [
      "tf.Tensor(0, shape=(), dtype=int64)\n"
     ]
    }
   ],
   "source": [
    "for output in output_classes:\n",
    "    print(output)"
   ]
  },
  {
   "cell_type": "code",
   "execution_count": null,
   "id": "032f1ea3",
   "metadata": {},
   "outputs": [],
   "source": []
  }
 ],
 "metadata": {
  "kernelspec": {
   "display_name": "Python 3 (ipykernel)",
   "language": "python",
   "name": "python3"
  },
  "language_info": {
   "codemirror_mode": {
    "name": "ipython",
    "version": 3
   },
   "file_extension": ".py",
   "mimetype": "text/x-python",
   "name": "python",
   "nbconvert_exporter": "python",
   "pygments_lexer": "ipython3",
   "version": "3.9.13"
  }
 },
 "nbformat": 4,
 "nbformat_minor": 5
}
